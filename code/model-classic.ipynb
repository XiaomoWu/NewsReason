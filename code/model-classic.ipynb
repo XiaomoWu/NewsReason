{
 "cells": [
  {
   "cell_type": "markdown",
   "metadata": {},
   "source": [
    "# Prepare data"
   ]
  },
  {
   "cell_type": "code",
   "execution_count": 1,
   "metadata": {},
   "outputs": [
    {
     "data": {
      "text/html": [
       "<style type='text/css'>\n",
       ".datatable table.frame { margin-bottom: 0; }\n",
       ".datatable table.frame thead { border-bottom: none; }\n",
       ".datatable table.frame tr.coltypes td {  color: #FFFFFF;  line-height: 6px;  padding: 0 0.5em;}\n",
       ".datatable .bool    { background: #DDDD99; }\n",
       ".datatable .object  { background: #565656; }\n",
       ".datatable .int     { background: #5D9E5D; }\n",
       ".datatable .float   { background: #4040CC; }\n",
       ".datatable .str     { background: #CC4040; }\n",
       ".datatable .time    { background: #40CC40; }\n",
       ".datatable .row_index {  background: var(--jp-border-color3);  border-right: 1px solid var(--jp-border-color0);  color: var(--jp-ui-font-color3);  font-size: 9px;}\n",
       ".datatable .frame tbody td { text-align: left; }\n",
       ".datatable .frame tr.coltypes .row_index {  background: var(--jp-border-color0);}\n",
       ".datatable th:nth-child(2) { padding-left: 12px; }\n",
       ".datatable .hellipsis {  color: var(--jp-cell-editor-border-color);}\n",
       ".datatable .vellipsis {  background: var(--jp-layout-color0);  color: var(--jp-cell-editor-border-color);}\n",
       ".datatable .na {  color: var(--jp-cell-editor-border-color);  font-size: 80%;}\n",
       ".datatable .sp {  opacity: 0.25;}\n",
       ".datatable .footer { font-size: 9px; }\n",
       ".datatable .frame_dimensions {  background: var(--jp-border-color3);  border-top: 1px solid var(--jp-border-color0);  color: var(--jp-ui-font-color3);  display: inline-block;  opacity: 0.6;  padding: 1px 10px 1px 5px;}\n",
       "</style>\n"
      ],
      "text/plain": [
       "<IPython.core.display.HTML object>"
      ]
     },
     "metadata": {},
     "output_type": "display_data"
    }
   ],
   "source": [
    "from pyarrow.feather import read_feather\n",
    "from sklearn import metrics\n",
    "from sklearn.feature_extraction.text import TfidfVectorizer\n",
    "from sklearn.model_selection import train_test_split\n",
    "from sklearn.preprocessing import LabelEncoder\n",
    "from sklearn.pipeline import Pipeline\n",
    "from sklearn.linear_model import SGDClassifier\n",
    "from sklearn.svm import SVC\n",
    "from utilpy import sv, ld\n",
    "from IPython.utils.io import capture_output\n",
    "\n",
    "import numpy as np\n",
    "import os\n",
    "\n",
    "workdir = '/home/yu/OneDrive/NewsReason/local-dev'\n",
    "os.chdir(workdir)"
   ]
  },
  {
   "cell_type": "code",
   "execution_count": 6,
   "metadata": {},
   "outputs": [
    {
     "name": "stdout",
     "output_type": "stream",
     "text": [
      "x_train.shape=(1500,), x_test.shape=(200,), t_train.shape=(1500,), t_test.shape=(200,)\n",
      "test accuracy 0.77\n",
      "train accuracy 0.9993333333333333\n",
      "\n",
      " Metrics and Confusion for SVM \n",
      "\n"
     ]
    }
   ],
   "source": [
    "# read data\n",
    "dataset = read_feather('/home/yu/OneDrive/NewsReason/local-dev/data/annotation/batch-5/2-annotated/annotated_agreed_full_batch3_4_5.feather')\n",
    "\n",
    "# encode string labels to integers\n",
    "dataset['intlabel'] = LabelEncoder().fit_transform(dataset['first_reason_type'])\n",
    "\n",
    "# split dataset into train and test\n",
    "train_size = 1500  # first X samples\n",
    "test_size = 200  # last X samples\n",
    "\n",
    "x_train = dataset['text'][:train_size]\n",
    "x_test = dataset['text'][-test_size:]\n",
    "t_train = dataset['intlabel'][:train_size]\n",
    "t_test = dataset['intlabel'][-test_size:]\n",
    "\n",
    "print(f'{x_train.shape=}, {x_test.shape=}, {t_train.shape=}, {t_test.shape=}')\n",
    "\n",
    "# train model\n",
    "def svc_pipleline():\n",
    "     return Pipeline(\n",
    "          [\n",
    "               ('tfidf_vector', TfidfVectorizer(\n",
    "                    ngram_range=(1,1),\n",
    "                    analyzer='word',\n",
    "                    input='array',\n",
    "                    norm='l2',\n",
    "                    max_features=None,\n",
    "                    min_df=1,\n",
    "                    sublinear_tf=True,\n",
    "                    stop_words='english')),\n",
    "               ('clf', SVC(\n",
    "                    C=10,\n",
    "                    kernel=\"rbf\",\n",
    "                    gamma=0.1,\n",
    "                    probability=True,\n",
    "                    class_weight=None))])\n",
    "                    \n",
    "def print_metrics(pred_test, y_test, pred_train, y_train):\n",
    "    print(\"test accuracy\", str(np.mean(pred_test == y_test)))\n",
    "    print(\"train accuracy\", str(np.mean(pred_train == y_train)))\n",
    "    print(\"\\n Metrics and Confusion for SVM \\n\")\n",
    "    # print(metrics.confusion_matrix(y_test, pred_test))\n",
    "    # print(metrics.classification_report(y_test, pred_test))\n",
    "\n",
    "with capture_output() as captured:\n",
    "    svc_pipe = svc_pipleline()\n",
    "    svc_pipe.fit(x_train, t_train)\n",
    "    pred_test = svc_pipe.predict(x_test)\n",
    "    pred_train = svc_pipe.predict(x_train)\n",
    "\n",
    "print_metrics(pred_test, t_test, pred_train, t_train)"
   ]
  }
 ],
 "metadata": {
  "kernelspec": {
   "display_name": "Python 3.9.14 ('py39-base')",
   "language": "python",
   "name": "python3"
  },
  "language_info": {
   "codemirror_mode": {
    "name": "ipython",
    "version": 3
   },
   "file_extension": ".py",
   "mimetype": "text/x-python",
   "name": "python",
   "nbconvert_exporter": "python",
   "pygments_lexer": "ipython3",
   "version": "3.9.14"
  },
  "orig_nbformat": 4,
  "vscode": {
   "interpreter": {
    "hash": "8206f256a530121ae25c24162e68178f9aa446642b91710e737959e4bf72a59d"
   }
  }
 },
 "nbformat": 4,
 "nbformat_minor": 2
}
