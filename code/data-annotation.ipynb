{
 "cells": [
  {
   "cell_type": "markdown",
   "metadata": {},
   "source": [
    "# Init"
   ]
  },
  {
   "cell_type": "code",
   "execution_count": 2,
   "metadata": {
    "vscode": {
     "languageId": "r"
    }
   },
   "outputs": [
    {
     "name": "stdout",
     "output_type": "stream",
     "text": [
      "Current working directory: /home/yu/OneDrive/NewsReason/local-dev\n"
     ]
    }
   ],
   "source": [
    "# library\n",
    "suppressMessages(suppressWarnings({\n",
    "    library(stringr)\n",
    "    library(Matrix)\n",
    "    library(jsonlite)\n",
    "    library(ggplot2)\n",
    "    library(dplyr)\n",
    "    library(arrow)\n",
    "    library(pryr)\n",
    "    library(data.table)\n",
    "    library(lubridate)\n",
    "    library(hms)\n",
    "}))\n",
    "\n",
    "# set work_dir and other dirs\n",
    "work_dir = '/home/yu/OneDrive/NewsReason/local-dev'\n",
    "data_dir = str_c(work_dir, '/data')\n",
    "local_wrds = '/home/yu/OneDrive/CloudData/local-wrds'\n",
    "local_wrds_crsp = str_c(local_wrds, '/crsp')\n",
    "local_wrds_comp = str_c(local_wrds, '/compustat')\n",
    "local_wrds_ibes = str_c(local_wrds, '/ibes')\n",
    "local_wrds_ciq = str_c(local_wrds, '/ciq')\n",
    "local_wrds_transcript = str_c(local_wrds, '/ciq-transcripts')\n",
    "local_wrds_finratios = str_c(local_wrds, '/financial-ratios')\n",
    "local_wrds_yu = str_c(local_wrds, '/yu')\n",
    "local_wrds_rp = str_c(local_wrds, '/raven-pack')\n",
    "\n",
    "setwd(work_dir)\n",
    "cat(str_c('Current working directory: ', getwd(), '\\n'))\n",
    "\n",
    "# default plot size and resolution (4 inch * 6 inch)\n",
    "options(repr.plot.height=4, repr.plot.width=6, repr.plot.res = 200)\n",
    "\n",
    "# display more rows and cols\n",
    "options(repr.matrix.max.cols=500) \n",
    "\n",
    "\n",
    "# ---- helpers ----\n",
    "unpack_reasons <- function(ele, force_reason_type) {\n",
    "    if (length(ele)==0 | all(is.na(ele))) {\n",
    "        return(NA)\n",
    "    } else {\n",
    "        out = list()\n",
    "        for (i in 1:nrow(ele)) {\n",
    "            if (force_reason_type) {\n",
    "                reason = 'REASON'\n",
    "            } else reason = str_trim(ele[i, 3])\n",
    "\n",
    "            out[[i]] = c(ele[i, 1], ele[i, 2], reason)\n",
    "        }\n",
    "        out\n",
    "    }\n",
    "}\n",
    "\n",
    "# read jsonl file\n",
    "# - the jsonl file could be 1) unannotated data, or 2) annotated data downloaded\n",
    "#   from doccano\n",
    "read_jsonl <- function(path, force_reason_type=T) {\n",
    "    # Args:\n",
    "    #     force_reason_type: If TRUE, all reasons are of type \"Reason\"; \n",
    "    #         If FALSE, return reasons as it is.\n",
    "    \n",
    "    con = file(path, open='r')\n",
    "    out = jsonlite::stream_in(con) %>% as.data.table()\n",
    "    close(con)\n",
    "\n",
    "    # ---- get reasons ----\n",
    "    # (for Batch 1-4)\n",
    "    if ('entities' %in% names(out)) {\n",
    "        # parse start/end position\n",
    "        out = out[, ':='(reasons=lapply(entities, unpack_reasons, force_reason_type))\n",
    "            ][, ':='(first_reason_start=sapply(reasons, get_first_reason_start),\n",
    "                     first_reason_end=sapply(reasons, get_first_reason_end),\n",
    "                     first_reason_type=sapply(reasons, get_first_reason_type))\n",
    "            ][, ':='(first_reason=str_sub(text, first_reason_start, first_reason_end))\n",
    "            ][, ':='(entities=NULL)]\n",
    "    # (for Batch-5)\n",
    "    } else if ('label' %in% names(out)) {\n",
    "        # parse start/end position\n",
    "        out = out[, ':='(reasons=lapply(label, unpack_reasons, force_reason_type))\n",
    "            ][, ':='(first_reason_start=sapply(reasons, get_first_reason_start),\n",
    "                     first_reason_end=sapply(reasons, get_first_reason_end),\n",
    "                     first_reason_type=sapply(reasons, get_first_reason_type))\n",
    "            ][, ':='(first_reason=str_sub(data, first_reason_start, first_reason_end))\n",
    "            ][, ':='(label=NULL)]\n",
    "    }\n",
    "    out[]\n",
    "}\n",
    "\n",
    "# get the first reason start position\n",
    "get_first_reason_start <- function(ele) {\n",
    "    if (length(ele)==0) {\n",
    "        return(NA)\n",
    "    } else as.integer(ele[[1]][1])\n",
    "}\n",
    "\n",
    "# get the first reason end position\n",
    "get_first_reason_end <- function(ele) {\n",
    "    if (length(ele)==0) {\n",
    "        return(NA)\n",
    "    } else as.integer(ele[[1]][2])\n",
    "}\n",
    "\n",
    "# get the first reason type\n",
    "get_first_reason_type <- function(ele) {\n",
    "    if (length(ele)==0) {\n",
    "        return(NA)\n",
    "    } else str_trim(ele[[1]][3])\n",
    "}"
   ]
  },
  {
   "cell_type": "markdown",
   "metadata": {
    "vscode": {
     "languageId": "r"
    }
   },
   "source": [
    "# (pilot) Batch-1"
   ]
  },
  {
   "cell_type": "markdown",
   "metadata": {},
   "source": [
    "## 1-unannotated"
   ]
  },
  {
   "cell_type": "code",
   "execution_count": 3,
   "metadata": {
    "vscode": {
     "languageId": "r"
    }
   },
   "outputs": [
    {
     "name": "stdout",
     "output_type": "stream",
     "text": [
      " Imported 100 records. Simplifying...\n"
     ]
    }
   ],
   "source": [
    "# Notes:\n",
    "# - The code used to created the unannotated data is LOST\n",
    "unannotated = read_jsonl(str_c(data_dir, '/annotation/batch-1/1-unannotated/unannotated.jsonl'))"
   ]
  },
  {
   "cell_type": "markdown",
   "metadata": {},
   "source": [
    "## 2-annotated"
   ]
  },
  {
   "cell_type": "code",
   "execution_count": 4,
   "metadata": {
    "vscode": {
     "languageId": "r"
    }
   },
   "outputs": [
    {
     "name": "stdout",
     "output_type": "stream",
     "text": [
      " Imported 40 records. Simplifying...\n",
      " Imported 44 records. Simplifying...\n",
      " Imported 62 records. Simplifying...\n",
      " Imported 100 records. Simplifying...\n",
      "\"annotated_agreed_full\" saved as \"annotated_agreed_full.feather\" (10.5 KB) (0.01 secs, 2022-09-06 05:52:18)\n"
     ]
    },
    {
     "data": {
      "text/html": [
       "'N obs: 100'"
      ],
      "text/latex": [
       "'N obs: 100'"
      ],
      "text/markdown": [
       "'N obs: 100'"
      ],
      "text/plain": [
       "[1] \"N obs: 100\""
      ]
     },
     "metadata": {},
     "output_type": "display_data"
    }
   ],
   "source": [
    "# \"annotated-raw\" from j and yu\n",
    "annotated_raw_yu = read_jsonl(str_c(data_dir, '/annotation/batch-1/2-annotated/annotated-raw-yu.jsonl'))\n",
    "annotated_raw_j = read_jsonl(str_c(data_dir, '/annotation/batch-1/2-annotated/annotated-raw-j.jsonl'))\n",
    "\n",
    "# \"annotated-agreed\"\n",
    "annotated_agreed = read_jsonl('/home/yu/OneDrive/NewsReason/local-dev/data/annotation/batch-1/2-annotated/annotated-agreed.jsonl')\n",
    "\n",
    "# load unannotated data\n",
    "unannotated = read_jsonl(str_c(data_dir, '/annotation/batch-1/1-unannotated/unannotated.jsonl'))\n",
    "\n",
    "# merge \"annotated-agreed\" and \"unannotated\"\n",
    "# - we need to merge with \"unannotated\" because \"annotated-agreed\" only contains obs\n",
    "#   that have annotation, i.e., if one headline has no reason, it will not be included.\n",
    "annotated_agreed_full = annotated_agreed[\n",
    "      unannotated, \n",
    "      on=.(text, entity, date, sentiment, type)\n",
    "    ][order(entity, date)\n",
    "    ][, .(text, reasons, first_reason)\n",
    "    ]\n",
    "    \n",
    "sv(annotated_agreed_full, folder=str_c(data_dir, '/annotation/batch-1/2-annotated'))\n",
    "\n",
    "sprintf('N obs: %s', nrow(annotated_agreed_full))"
   ]
  },
  {
   "cell_type": "markdown",
   "metadata": {},
   "source": [
    "# (pilot) Batch-2"
   ]
  },
  {
   "cell_type": "markdown",
   "metadata": {},
   "source": [
    "## 1-unannotated"
   ]
  },
  {
   "cell_type": "code",
   "execution_count": 5,
   "metadata": {
    "vscode": {
     "languageId": "r"
    }
   },
   "outputs": [],
   "source": [
    "# # ---- create samples ----\n",
    "# # load price data\n",
    "# ld(rpa_stock_price_unique_headline, 'rpa_unique_headline')\n",
    "\n",
    "# # clean text\n",
    "# set.seed(42)\n",
    "# unannotated = rpa_unique_headline[sample(.N, 500)\n",
    "#     ][, ':='(headline=str_replace(headline, '^\" ', ''))\n",
    "#     ][, .(text=headline, entity=entity_name, date=date, sentiment=event_sentiment_score, type=sub_type, gvkey)]\n",
    "\n",
    "# # write to jsonl\n",
    "# library(jsonlite)\n",
    "# con_out = file('./data/annotation/batch-2/unannotated.jsonl', open='wb')\n",
    "# stream_out(unannotated, con_out)\n",
    "# close(con_out)"
   ]
  },
  {
   "cell_type": "markdown",
   "metadata": {},
   "source": [
    "## 2-annotated"
   ]
  },
  {
   "cell_type": "code",
   "execution_count": 6,
   "metadata": {
    "vscode": {
     "languageId": "r"
    }
   },
   "outputs": [
    {
     "name": "stdout",
     "output_type": "stream",
     "text": [
      " Imported 276 records. Simplifying...\n",
      " Imported 305 records. Simplifying...\n",
      " Imported 301 records. Simplifying...\n",
      " Imported 500 records. Simplifying...\n",
      "\"annotated_agreed_full\" saved as \"annotated_agreed_full.feather\" (37.8 KB) (0.01 secs, 2022-09-06 05:52:18)\n"
     ]
    },
    {
     "data": {
      "text/html": [
       "'N obs: 500'"
      ],
      "text/latex": [
       "'N obs: 500'"
      ],
      "text/markdown": [
       "'N obs: 500'"
      ],
      "text/plain": [
       "[1] \"N obs: 500\""
      ]
     },
     "metadata": {},
     "output_type": "display_data"
    }
   ],
   "source": [
    "# load \"annotated-raw\" from j and yu\n",
    "annotated_raw_j = read_jsonl(str_c(data_dir, '/annotation/batch-2/2-annotated/annotated-raw-j.jsonl'))\n",
    "annotated_raw_yu = read_jsonl(str_c(data_dir, '/annotation/batch-2/2-annotated/annotated-raw-yu.jsonl'))\n",
    "\n",
    "# load \"annotated-agreed\"\n",
    "annotated_agreed = read_jsonl('/home/yu/OneDrive/NewsReason/local-dev/data/annotation/batch-2/2-annotated/annotated-agreed.jsonl')\n",
    "\n",
    "# load unannotated data\n",
    "unannotated = read_jsonl(str_c(data_dir, '/annotation/batch-2/1-unannotated/unannotated.jsonl'))\n",
    "\n",
    "# merge \"annotated-agreed\" and \"unannotated\"\n",
    "# - we need to merge with \"unannotated\" because \"annotated-agreed\" only contains obs\n",
    "#   that have annotation, i.e., if one headline has no reason, it will not be included.\n",
    "annotated_agreed_full = annotated_agreed[\n",
    "      unannotated, \n",
    "      on=.(text, entity, date, sentiment, type)\n",
    "    ][order(entity, date)\n",
    "    ][, .(text, reasons, first_reason)\n",
    "    ]\n",
    "\n",
    "sv(annotated_agreed_full, folder=str_c(data_dir, '/annotation/batch-2/2-annotated'))\n",
    "\n",
    "sprintf('N obs: %s', nrow(annotated_agreed_full))"
   ]
  },
  {
   "cell_type": "markdown",
   "metadata": {},
   "source": [
    "# Batch-3 (600 headlines)\n",
    "\n",
    "> [!Summary] What we did in Batch-3\n",
    "> - Merge Batch-1 and Batch-2, yielding 600 headlines.\n",
    "> \n",
    "> - Remove the annotated reasons in the two batches.\n",
    ">\n",
    "> - **Re-annotate** the 600 headlines with the finalized rules."
   ]
  },
  {
   "cell_type": "markdown",
   "metadata": {},
   "source": [
    "## 1-unannotated\n",
    "\n",
    "- The code used for creating the \"unannotated\" dataset is LOST. So I can't reproduce.\n",
    "- Instead, I used the checkpointed \"unannotated\" dataset."
   ]
  },
  {
   "cell_type": "code",
   "execution_count": 7,
   "metadata": {
    "vscode": {
     "languageId": "r"
    }
   },
   "outputs": [
    {
     "name": "stdout",
     "output_type": "stream",
     "text": [
      " Imported 600 records. Simplifying...\n"
     ]
    }
   ],
   "source": [
    "unannotated = read_jsonl(str_c(data_dir, '/annotation/batch-3/1-unannotated/unannotated.jsonl'))"
   ]
  },
  {
   "cell_type": "markdown",
   "metadata": {},
   "source": [
    "## 2-annotated"
   ]
  },
  {
   "cell_type": "code",
   "execution_count": 8,
   "metadata": {
    "vscode": {
     "languageId": "r"
    }
   },
   "outputs": [
    {
     "name": "stdout",
     "output_type": "stream",
     "text": [
      " Imported 600 records. Simplifying...\n",
      " Imported 352 records. Simplifying...\n",
      "\"annotated_agreed_full\" saved as \"annotated_agreed_full.feather\" (52.6 KB) (0 secs, 2022-09-06 05:52:19)\n"
     ]
    }
   ],
   "source": [
    "# load unannotated\n",
    "unannotated = read_jsonl('./data/annotation/batch-3/1-unannotated/unannotated.jsonl')\n",
    "\n",
    "# load annotated_agreed\n",
    "annotated_agreed = read_jsonl(\n",
    "    './data/annotation/batch-3/2-annotated/annotated-agreed.jsonl',\n",
    "    force_reason_type=F)\n",
    "\n",
    "# merge \"annotated-agreed\" and \"unannotated\"\n",
    "# - we need to merge with \"unannotated\" because \"annotated-agreed\" only contains obs\n",
    "#   that have annotation, i.e., if one headline has no reason, it will not be included.\n",
    "annotated_agreed_full = annotated_agreed[, .(text, reasons, first_reason, first_reason_type, first_reason_start, first_reason_end)\n",
    "    ][unannotated[, .(text)], on=.(text)]\n",
    "\n",
    "sv(annotated_agreed_full, folder='./data/annotation/batch-3/2-annotated')"
   ]
  },
  {
   "cell_type": "markdown",
   "metadata": {},
   "source": [
    "# Batch-4 (600 headlines, balanced)"
   ]
  },
  {
   "cell_type": "markdown",
   "metadata": {},
   "source": [
    "## 1-unannotated\n",
    "\n",
    "See the Obisidian notes or how the unannotated data is created in Batch-4."
   ]
  },
  {
   "cell_type": "markdown",
   "metadata": {},
   "source": [
    "## 2-annotated"
   ]
  },
  {
   "cell_type": "code",
   "execution_count": 58,
   "metadata": {
    "vscode": {
     "languageId": "r"
    }
   },
   "outputs": [
    {
     "name": "stdout",
     "output_type": "stream",
     "text": [
      " Imported 515 records. Simplifying...\n",
      " Imported 600 records. Simplifying...\n",
      "\"annotated_agreed_full_batch4\" saved as \"annotated_agreed_full_batch4.feather\" (69.5 KB) (0 secs, 2022-09-16 00:40:05)\n",
      "\"annotated_agreed_full.feather\" (52.6 KB) loaded (0.01 secs) (2022-09-16 12:40 AM)\n",
      "\"annotated_agreed_full_batch3_4\" saved as \"annotated_agreed_full_batch3_4.feather\" (163.3 KB) (0 secs, 2022-09-16 00:40:05)\n"
     ]
    }
   ],
   "source": [
    "# load batch-4 results\n",
    "annotated_agreed_batch4 = read_jsonl(\n",
    "    './data/annotation/batch-4/2-annotated/annotated-agreed.jsonl',\n",
    "    force_reason_type=F)[!is.na(first_reason_type)]\n",
    "unannotated_batch4 = read_jsonl('./data/annotation/batch-4/1-unannotated/unannotated.jsonl')\n",
    "\n",
    "# merge \"annotated-agreed\" and \"unannotated\"\n",
    "# - we need to merge with \"unannotated\" because \"annotated-agreed\" only contains obs\n",
    "#   that have annotation, i.e., if one headline has no reason, it will not be included.\n",
    "annotated_agreed_full_batch4 = annotated_agreed_batch4[, .(text, reasons, first_reason, first_reason_type, first_reason_start, first_reason_end)\n",
    "    ][unannotated_batch4[, .(text)], on=.(text)]\n",
    "\n",
    "sv(annotated_agreed_full_batch4, folder='./data/annotation/batch-4/2-annotated')\n",
    "\n",
    "# load batch-3 results\n",
    "annotated_agreed_full_batch3 = ld('annotated_agreed_full', folder='./data/annotation/batch-3/2-annotated')\n",
    "annotated_agreed_full_batch3[, ':='(reasons=as.list(reasons))]\n",
    "\n",
    "# merge batch-3 and batch-4\n",
    "annotated_agreed_full_batch3_4 = rbindlist(list(annotated_agreed_full_batch3, annotated_agreed_full_batch4), use.names=T)\n",
    "annotated_agreed_full_batch3_4 = annotated_agreed_full_batch3_4[\n",
    "      is.na(first_reason_type), \n",
    "      ':='(first_reason_type='[NONE]', first_reason='[NONE]')]\n",
    "\n",
    "# 1) add \"coarse-level\" of reasons\n",
    "# 2) add \"reason_type_id\" (pytorch only accept int as label)\n",
    "convert_reason_to_coarse <- function(reasons) {\n",
    "    # Args:\n",
    "    #    reasons: reasons of ONE headline\n",
    "    \n",
    "    to_coarse <- function(reason) {\n",
    "        # Args:\n",
    "        #     reason: a reason of ONE headline\n",
    "        reason[[3]] = str_replace(reason[[3]], ' \\\\s*\\\\([^\\\\)]+\\\\)', '') %>% str_trim()   \n",
    "        reason\n",
    "    }\n",
    "\n",
    "    lapply(reasons, to_coarse)\n",
    "}\n",
    "\n",
    "annotated_agreed_full_batch3_4 = annotated_agreed_full_batch3_4[, \n",
    "    # add \"coarse-level\" of first_reasons\n",
    "      ':='(first_reason_type_coarse=str_replace(first_reason_type, ' \\\\s*\\\\([^\\\\)]+\\\\)', '') %>% str_trim(),\n",
    "           reasons_coarse=lapply(reasons, convert_reason_to_coarse)),\n",
    "    ][,\n",
    "    # add reason_type_id\n",
    "    # we minus 1 because label in pytorch starts from 0\n",
    "      ':='(first_reason_type_id=as.integer(factor(first_reason_type, levels=unique(first_reason_type)))-1L,\n",
    "           first_reason_type_coarse_id=as.integer(factor(first_reason_type_coarse, levels=unique(first_reason_type_coarse)))-1L)]\n",
    "\n",
    "# shuffle dataset so that we don't need to shuffle in pytorch\n",
    "set.seed(79)\n",
    "annotated_agreed_full_batch3_4 = annotated_agreed_full_batch3_4[sample(1:nrow(annotated_agreed_full_batch3_4))]\n",
    "\n",
    "# save annotated_agreed_full_batch3_4\n",
    "annotated_agreed_full_batch3_4[, ':='(reasons=lapply(reasons, as.list))]\n",
    "sv(annotated_agreed_full_batch3_4, folder='./data/annotation/batch-4/2-annotated')"
   ]
  },
  {
   "cell_type": "code",
   "execution_count": 3,
   "metadata": {
    "vscode": {
     "languageId": "r"
    }
   },
   "outputs": [
    {
     "name": "stdout",
     "output_type": "stream",
     "text": [
      "\"annotated_agreed_full_batch3_4.feather\" (163.3 KB) loaded (0.03 secs) (2022-09-23 6:32 PM)\n"
     ]
    },
    {
     "data": {
      "text/html": [
       "<table class=\"dataframe\">\n",
       "<caption>A data.table: 1 × 10</caption>\n",
       "<thead>\n",
       "\t<tr><th scope=col>text</th><th scope=col>reasons</th><th scope=col>first_reason</th><th scope=col>first_reason_type</th><th scope=col>first_reason_start</th><th scope=col>first_reason_end</th><th scope=col>first_reason_type_coarse</th><th scope=col>reasons_coarse</th><th scope=col>first_reason_type_id</th><th scope=col>first_reason_type_coarse_id</th></tr>\n",
       "\t<tr><th scope=col>&lt;chr&gt;</th><th scope=col>&lt;list&lt;list&lt;character&gt;&gt;&gt;</th><th scope=col>&lt;chr&gt;</th><th scope=col>&lt;chr&gt;</th><th scope=col>&lt;int&gt;</th><th scope=col>&lt;int&gt;</th><th scope=col>&lt;chr&gt;</th><th scope=col>&lt;list&lt;list&lt;character&gt;&gt;&gt;</th><th scope=col>&lt;int&gt;</th><th scope=col>&lt;int&gt;</th></tr>\n",
       "</thead>\n",
       "<tbody>\n",
       "\t<tr><td>Thor Shares Fall As Company Sees 'headwinds' From Steel Tariffs -- MarketWatch</td><td>20                     , 63                     , External Shock (Policy)</td><td> Company Sees 'headwinds' From Steel Tariffs</td><td>External Shock (Policy)</td><td>20</td><td>63</td><td>External Shock</td><td>20            , 63            , External Shock</td><td>18</td><td>8</td></tr>\n",
       "</tbody>\n",
       "</table>\n"
      ],
      "text/latex": [
       "A data.table: 1 × 10\n",
       "\\begin{tabular}{llllllllll}\n",
       " text & reasons & first\\_reason & first\\_reason\\_type & first\\_reason\\_start & first\\_reason\\_end & first\\_reason\\_type\\_coarse & reasons\\_coarse & first\\_reason\\_type\\_id & first\\_reason\\_type\\_coarse\\_id\\\\\n",
       " <chr> & <list<list<character>>> & <chr> & <chr> & <int> & <int> & <chr> & <list<list<character>>> & <int> & <int>\\\\\n",
       "\\hline\n",
       "\t Thor Shares Fall As Company Sees 'headwinds' From Steel Tariffs -- MarketWatch & 20                     , 63                     , External Shock (Policy) &  Company Sees 'headwinds' From Steel Tariffs & External Shock (Policy) & 20 & 63 & External Shock & 20            , 63            , External Shock & 18 & 8\\\\\n",
       "\\end{tabular}\n"
      ],
      "text/markdown": [
       "\n",
       "A data.table: 1 × 10\n",
       "\n",
       "| text &lt;chr&gt; | reasons &lt;list&lt;list&lt;character&gt;&gt;&gt; | first_reason &lt;chr&gt; | first_reason_type &lt;chr&gt; | first_reason_start &lt;int&gt; | first_reason_end &lt;int&gt; | first_reason_type_coarse &lt;chr&gt; | reasons_coarse &lt;list&lt;list&lt;character&gt;&gt;&gt; | first_reason_type_id &lt;int&gt; | first_reason_type_coarse_id &lt;int&gt; |\n",
       "|---|---|---|---|---|---|---|---|---|---|\n",
       "| Thor Shares Fall As Company Sees 'headwinds' From Steel Tariffs -- MarketWatch | 20                     , 63                     , External Shock (Policy) |  Company Sees 'headwinds' From Steel Tariffs | External Shock (Policy) | 20 | 63 | External Shock | 20            , 63            , External Shock | 18 | 8 |\n",
       "\n"
      ],
      "text/plain": [
       "  text                                                                          \n",
       "1 Thor Shares Fall As Company Sees 'headwinds' From Steel Tariffs -- MarketWatch\n",
       "  reasons                                                                  \n",
       "1 20                     , 63                     , External Shock (Policy)\n",
       "  first_reason                                 first_reason_type      \n",
       "1  Company Sees 'headwinds' From Steel Tariffs External Shock (Policy)\n",
       "  first_reason_start first_reason_end first_reason_type_coarse\n",
       "1 20                 63               External Shock          \n",
       "  reasons_coarse                                 first_reason_type_id\n",
       "1 20            , 63            , External Shock 18                  \n",
       "  first_reason_type_coarse_id\n",
       "1 8                          "
      ]
     },
     "metadata": {},
     "output_type": "display_data"
    }
   ],
   "source": [
    "tx = ld('annotated_agreed_full_batch3_4', folder='./data/annotation/batch-4/2-annotated')\n",
    "tx[str_detect(text, 'Thor Shares Fall')]"
   ]
  },
  {
   "cell_type": "markdown",
   "metadata": {},
   "source": [
    "## 3-post-analysis"
   ]
  },
  {
   "cell_type": "markdown",
   "metadata": {},
   "source": [
    "### \"training size\" vs. \"accuracy\""
   ]
  },
  {
   "cell_type": "code",
   "execution_count": 22,
   "metadata": {
    "vscode": {
     "languageId": "r"
    }
   },
   "outputs": [
    {
     "data": {
      "image/png": "[encoded data removed]",
      "text/plain": [
       "plot without title"
      ]
     },
     "metadata": {
      "image/png": {
       "height": 400,
       "width": 800
      }
     },
     "output_type": "display_data"
    }
   ],
   "source": [
    "# plot \"training size\" vs \"accuracy\"\n",
    "\n",
    "data_fine = data.table(\n",
    "    size=c(200, 400, 600, 800, 1000),\n",
    "    bert=c(53.5, 64.5, 72.5, 77.5, 78.5),\n",
    "    roberta=c(72.5, 81.5, 84, 85.5, 86.5),\n",
    "    svc=c(48.5, 59, 65, 66.5, 67.5),\n",
    "    granularity='Fine-level reasons')\n",
    "\n",
    "data_coarse = data.table(\n",
    "    size=c(200, 400, 600, 800, 1000),\n",
    "    bert=c(60, 74, 78.5, 82, 85.5),\n",
    "    roberta=c(80, 82.5, 86, 87, 88.5),\n",
    "    svc=c(57, 67, 70, 73.5, 74.5),\n",
    "    granularity='Coarse-level reasons')\n",
    "\n",
    "# select data\n",
    "data_fine = melt(data_fine, id.vars=c('size', 'granularity'), variable.name='model', value.name='accuracy')\n",
    "data_coarse = melt(data_coarse, id.vars=c('size', 'granularity'), variable.name='model', value.name='accuracy')\n",
    "data = rbindlist(list(data_fine, data_coarse))\n",
    "data = data[, ':='(model=factor(model, labels=c('BERT', 'RoBERTa', 'SVC')))]\n",
    "\n",
    "options(repr.plot.height=4, repr.plot.width=8, repr.plot.res = 200)\n",
    "data[model!='BERT'] %>% \n",
    "    ggplot(aes(x=size, y=accuracy, label=accuracy, color=model)) +\n",
    "    geom_line() +\n",
    "    geom_point() +\n",
    "    geom_text(nudge_y=1.5) +\n",
    "    xlab('N training samples') +\n",
    "    ylab('Accuracy (%)') +\n",
    "    facet_grid(~ granularity) +\n",
    "    scale_color_discrete('Model') +\n",
    "    theme_bw() +\n",
    "    theme(legend.position=c(0.9, 0.2))\n",
    "options(repr.plot.height=4, repr.plot.width=6, repr.plot.res = 200)\n"
   ]
  },
  {
   "cell_type": "markdown",
   "metadata": {
    "vscode": {
     "languageId": "r"
    }
   },
   "source": [
    "# Batch-5"
   ]
  },
  {
   "cell_type": "markdown",
   "metadata": {},
   "source": [
    "## 1-unannotated\n",
    "\n",
    "**How we create the `unannotated.jsonl` file?**\n",
    "1. Select all the headlines that are between year [2000, 2020] and follow the below critera, yielding `headlines`.\n",
    "\n",
    "2. From `headlines`, ramdomly sample 500 headlines, yielding `unannotated.jsonl`."
   ]
  },
  {
   "cell_type": "code",
   "execution_count": 32,
   "metadata": {
    "vscode": {
     "languageId": "r"
    }
   },
   "outputs": [],
   "source": [
    "# read from local_wrds_rp\n",
    "headlines = open_dataset(\n",
    "    str_c(local_wrds_rp, '/rpa_full_equities'),\n",
    "    format='feather'\n",
    "    ) %>% \n",
    "    filter(topic=='business' & group=='stock-prices' &\n",
    "           relevance>=90 & country_code=='US' & !is.na(event_relevance) & \n",
    "           event_relevance==100 & sub_type %in% c('gain', 'loss')) %>%\n",
    "    select(headline, entity_name, sub_type) %>%\n",
    "    collect() %>%\n",
    "    setDT()\n",
    "\n",
    "# headline must be unique\n",
    "headlines = headlines %>% unique(by='headline')"
   ]
  },
  {
   "cell_type": "code",
   "execution_count": 34,
   "metadata": {
    "vscode": {
     "languageId": "r"
    }
   },
   "outputs": [
    {
     "data": {
      "text/html": [
       "<table class=\"dataframe\">\n",
       "<caption>A data.table: 1 × 2</caption>\n",
       "<thead>\n",
       "\t<tr><th scope=col>text</th><th scope=col>entity_name</th></tr>\n",
       "\t<tr><th scope=col>&lt;chr&gt;</th><th scope=col>&lt;chr&gt;</th></tr>\n",
       "</thead>\n",
       "<tbody>\n",
       "\t<tr><td>PepsiCo Stock Falls 3%</td><td>PepsiCo Inc.</td></tr>\n",
       "</tbody>\n",
       "</table>\n"
      ],
      "text/latex": [
       "A data.table: 1 × 2\n",
       "\\begin{tabular}{ll}\n",
       " text & entity\\_name\\\\\n",
       " <chr> & <chr>\\\\\n",
       "\\hline\n",
       "\t PepsiCo Stock Falls 3\\% & PepsiCo Inc.\\\\\n",
       "\\end{tabular}\n"
      ],
      "text/markdown": [
       "\n",
       "A data.table: 1 × 2\n",
       "\n",
       "| text &lt;chr&gt; | entity_name &lt;chr&gt; |\n",
       "|---|---|\n",
       "| PepsiCo Stock Falls 3% | PepsiCo Inc. |\n",
       "\n"
      ],
      "text/plain": [
       "  text                   entity_name \n",
       "1 PepsiCo Stock Falls 3% PepsiCo Inc."
      ]
     },
     "metadata": {},
     "output_type": "display_data"
    },
    {
     "name": "stdout",
     "output_type": "stream",
     "text": [
      "Complete! Processed total of 500 rows.\n"
     ]
    }
   ],
   "source": [
    "# create unpredicted\n",
    "set.seed(42)\n",
    "unannotated = headlines[sample(1:nrow(headlines), 500), .(text=headline, entity_name)]\n",
    "unannotated[1]\n",
    "\n",
    "# write to json so that doccano can read\n",
    "library(jsonlite)\n",
    "\n",
    "con_out = file('/home/yu/OneDrive/NewsReason/local-dev/data/annotation/batch-5/1-unannotated/unannotated.jsonl', open='wb')\n",
    "stream_out(unannotated, con_out)\n",
    "\n",
    "close(con_out)"
   ]
  },
  {
   "cell_type": "markdown",
   "metadata": {},
   "source": [
    "## 2-annotated"
   ]
  },
  {
   "cell_type": "code",
   "execution_count": 12,
   "metadata": {
    "vscode": {
     "languageId": "r"
    }
   },
   "outputs": [
    {
     "name": "stdout",
     "output_type": "stream",
     "text": [
      " Imported 301 records. Simplifying...\n",
      " Imported 500 records. Simplifying...\n",
      "\"annotated_agreed_full_batch3_4.feather\" (163.3 KB) loaded (0.02 secs) (2022-09-25 4:57 AM)\n",
      "\"annotated_agreed_full_batch3_4_5\" saved as \"annotated_agreed_full_batch3_4_5.feather\" (218.9 KB) (0.01 secs, 2022-09-25 04:57:15)\n"
     ]
    }
   ],
   "source": [
    "# load batch-5 results\n",
    "annotated_raw_yu = read_jsonl(\n",
    "    './data/annotation/batch-5/2-annotated/annotated-raw-yu.jsonl',\n",
    "    force_reason_type=F)[!is.na(first_reason_type)]\n",
    "unannotated_batch5 = read_jsonl('./data/annotation/batch-5/1-unannotated/unannotated.jsonl')\n",
    "\n",
    "annotated_agreed_full_batch5 = annotated_raw_yu[, .(text=data, reasons, first_reason, first_reason_type, first_reason_start, first_reason_end)\n",
    "    ][unannotated_batch5[, .(text)], on=.(text)\n",
    "    ][is.na(first_reason_type), \n",
    "      ':='(first_reason_type='[NONE]', first_reason='[NONE]')]\n",
    "\n",
    "# load batch3_4\n",
    "annotated_agreed_full_batch3_4 = ld('annotated_agreed_full_batch3_4', folder='./data/annotation/batch-4/2-annotated')\n",
    "annotated_agreed_full_batch3_4[, ':='(reasons=as.list(reasons))]\n",
    "\n",
    "# merge batch-5 with batch3_4, exporting batch3_4_5\n",
    "annotated_agreed_full_batch3_4_5 = rbindlist(list(annotated_agreed_full_batch3_4, annotated_agreed_full_batch5), use.names=T, fill=T)\n",
    "\n",
    "# 1) add \"coarse-level\" of first_reasons\n",
    "# 2) # add \"reason_type_id\" (pytorch only accept int as label)\n",
    "convert_reason_to_coarse <- function(reasons) {\n",
    "    # Args:\n",
    "    #    reasons: reasons of ONE headline\n",
    "    \n",
    "    to_coarse <- function(reason) {\n",
    "        # Args:\n",
    "        #     reason: a reason of ONE headline\n",
    "        reason[[3]] = str_replace(reason[[3]], ' \\\\s*\\\\([^\\\\)]+\\\\)', '') %>% str_trim()   \n",
    "        reason\n",
    "    }\n",
    "\n",
    "    lapply(reasons, to_coarse)\n",
    "}\n",
    "\n",
    "annotated_agreed_full_batch3_4_5 = annotated_agreed_full_batch3_4_5[, \n",
    "    # add \"coarse-level\" of first_reasons\n",
    "      ':='(first_reason_type_coarse=str_replace(first_reason_type, ' \\\\s*\\\\([^\\\\)]+\\\\)', '') %>% str_trim(),\n",
    "           reasons_coarse=lapply(reasons, convert_reason_to_coarse)),\n",
    "    ][,\n",
    "    # add reason_type_id\n",
    "    # we minus 1 because label in pytorch starts from 0\n",
    "      ':='(first_reason_type_id=as.integer(factor(first_reason_type, levels=unique(first_reason_type)))-1L,\n",
    "           first_reason_type_coarse_id=as.integer(factor(first_reason_type_coarse, levels=unique(first_reason_type_coarse)))-1L)]\n",
    "\n",
    "\n",
    "# export annotated_agreed_full_batch3_4_5\n",
    "annotated_agreed_full_batch3_4_5[, ':='(reasons=lapply(reasons, as.list))]\n",
    "sv(annotated_agreed_full_batch3_4_5, folder='./data/annotation/batch-5/2-annotated')"
   ]
  }
 ],
 "metadata": {
  "kernelspec": {
   "display_name": "R 4.1.2",
   "language": "R",
   "name": "ir410"
  },
  "language_info": {
   "codemirror_mode": "r",
   "file_extension": ".r",
   "mimetype": "text/x-r-source",
   "name": "R",
   "pygments_lexer": "r",
   "version": "4.1.2"
  },
  "orig_nbformat": 4,
  "vscode": {
   "interpreter": {
    "hash": "916dbcbb3f70747c44a77c7bcd40155683ae19c65e1c03b4aa3499c5328201f1"
   }
  }
 },
 "nbformat": 4,
 "nbformat_minor": 2
}
